{
 "cells": [
  {
   "cell_type": "code",
   "execution_count": null,
   "id": "30b48be0",
   "metadata": {},
   "outputs": [],
   "source": [
    "import streamlit as st\n",
    "from sklearn.feature_extraction.text import TfidfVectorizer\n",
    "import joblib  # Assuming you used joblib to save your model\n",
    "\n",
    "# Load your pre-trained model\n",
    "your_model = joblib.load('logistic_regression_model.pkl')  # Update with your actual model file\n",
    "\n",
    "# Load your TF-IDF vectorizer\n",
    "vectorization = joblib.load('tfidf_vectorizer.pkl')  # Update with your actual vectorizer file\n",
    "\n",
    "st.title(\"Fake News Detection App\")\n",
    "\n",
    "# Input text area for user input\n",
    "user_input = st.text_area(\"Enter a news article:\", \"\")\n",
    "\n",
    "if st.button(\"Predict\"):\n",
    "    # Vectorize the user input\n",
    "    user_input_vectorized = vectorization.transform([user_input])\n",
    "\n",
    "    # Make a prediction\n",
    "    prediction = your_model.predict(user_input_vectorized)\n",
    "\n",
    "    # Display the prediction result\n",
    "    st.write(\"Prediction:\", \"Fake\" if prediction[0] == 1 else \"Real\")\n"
   ]
  }
 ],
 "metadata": {
  "kernelspec": {
   "display_name": "Python 3 (ipykernel)",
   "language": "python",
   "name": "python3"
  },
  "language_info": {
   "codemirror_mode": {
    "name": "ipython",
    "version": 3
   },
   "file_extension": ".py",
   "mimetype": "text/x-python",
   "name": "python",
   "nbconvert_exporter": "python",
   "pygments_lexer": "ipython3",
   "version": "3.11.5"
  }
 },
 "nbformat": 4,
 "nbformat_minor": 5
}
